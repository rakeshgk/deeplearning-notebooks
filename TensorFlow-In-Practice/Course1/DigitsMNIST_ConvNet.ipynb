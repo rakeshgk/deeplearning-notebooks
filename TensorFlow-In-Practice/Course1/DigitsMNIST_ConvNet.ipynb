{
 "cells": [
  {
   "cell_type": "markdown",
   "metadata": {},
   "source": [
    "# Week 3 Assignment\n",
    "\n",
    "The question can be found [here](https://github.com/lmoroney/dlaicourse/blob/master/Exercises/Exercise%203%20-%20Convolutions/Exercise%203%20-%20Question.ipynb)"
   ]
  },
  {
   "cell_type": "code",
   "execution_count": 1,
   "metadata": {},
   "outputs": [],
   "source": [
    "import tensorflow as tf\n",
    "import numpy as np\n",
    "import matplotlib.pyplot as plt\n",
    "from random import randint"
   ]
  },
  {
   "cell_type": "markdown",
   "metadata": {},
   "source": [
    "## Load the handwritten digits MNIST dataset"
   ]
  },
  {
   "cell_type": "code",
   "execution_count": 2,
   "metadata": {},
   "outputs": [],
   "source": [
    "digits_mnist = tf.keras.datasets.mnist\n",
    "(training_digits, training_labels), (test_digits, test_labels) = digits_mnist.load_data()\n",
    "\n",
    "# Use np.copy to preserve the original data. This will be used for plotting graphs throughout the notebook\n",
    "training_digits_vcopy = np.copy(training_digits)\n",
    "training_labels_vcopy = np.copy(training_labels)\n",
    "test_digits_vcopy = np.copy(test_digits)\n",
    "test_labels_vcopy = np.copy(test_labels)"
   ]
  },
  {
   "cell_type": "markdown",
   "metadata": {},
   "source": [
    "## Visualize the training data"
   ]
  },
  {
   "cell_type": "code",
   "execution_count": 3,
   "metadata": {},
   "outputs": [
    {
     "data": {
      "image/png": "[encoded data removed]",
      "text/plain": [
       "<Figure size 720x720 with 9 Axes>"
      ]
     },
     "metadata": {
      "needs_background": "light"
     },
     "output_type": "display_data"
    }
   ],
   "source": [
    "figure, axes = plt.subplots(nrows=3, ncols=3, figsize=(10,10))\n",
    "\n",
    "for row in axes:\n",
    "    for column in row:\n",
    "        # Use randint to generate random integers between [0, training_digits_vcopy.shape[0]]\n",
    "        column.imshow(training_digits_vcopy[randint(0, training_digits_vcopy.shape[0])])\n",
    "\n",
    "plt.show()"
   ]
  },
  {
   "cell_type": "markdown",
   "metadata": {},
   "source": [
    "## Exploratory Analysis"
   ]
  },
  {
   "cell_type": "code",
   "execution_count": 4,
   "metadata": {},
   "outputs": [
    {
     "name": "stdout",
     "output_type": "stream",
     "text": [
      "Label 0 and Count 5923\n",
      "Label 1 and Count 6742\n",
      "Label 2 and Count 5958\n",
      "Label 3 and Count 6131\n",
      "Label 4 and Count 5842\n",
      "Label 5 and Count 5421\n",
      "Label 6 and Count 5918\n",
      "Label 7 and Count 6265\n",
      "Label 8 and Count 5851\n",
      "Label 9 and Count 5949\n"
     ]
    }
   ],
   "source": [
    "uniques, counts = np.unique(training_labels, return_counts=True)\n",
    "\n",
    "for unique, count in zip(uniques, counts): \n",
    "    print (\"Label {} and Count {}\".format(unique, count))"
   ]
  },
  {
   "cell_type": "markdown",
   "metadata": {},
   "source": [
    "## Prepare the dataset\n",
    "\n",
    "1. Reshape the data to indicate the number of color channels\n",
    "2. Normalize the data"
   ]
  },
  {
   "cell_type": "code",
   "execution_count": 5,
   "metadata": {},
   "outputs": [],
   "source": [
    "# The 1 here indicates that we have just 1 color channel. If the image data was available in RGB this would be 3\n",
    "training_digits = training_digits.reshape(training_digits.shape[0], training_digits.shape[1],\n",
    "                                          training_digits.shape[2], 1)\n",
    "test_digits = test_digits.reshape(test_digits.shape[0], test_digits.shape[1], test_digits.shape[2], 1)\n",
    "\n",
    "# Normalize the data to have 0 mean and unit variance\n",
    "training_digits = training_digits / 255.0\n",
    "test_digits = test_digits / 255.0"
   ]
  },
  {
   "cell_type": "markdown",
   "metadata": {},
   "source": [
    "## Build a Convolutional Neural Network"
   ]
  },
  {
   "cell_type": "code",
   "execution_count": 6,
   "metadata": {},
   "outputs": [],
   "source": [
    "model = tf.keras.models.Sequential()\n",
    "\n",
    "# Create a Convolutional layer that accepts image data in matrix form.\n",
    "# This layer learns 64 filters each of size kernel_size. (In this case 3 x 3)\n",
    "# The filters are used to transform the input image. (Like enhance image edges and relevant features)\n",
    "model.add(tf.keras.layers.Conv2D(filters=64, kernel_size=(3, 3), activation=tf.nn.relu,\n",
    "                                 input_shape=(28, 28, 1)))\n",
    "\n",
    "# Create a MaxPool layer that looks at the transformed image 2 x 2 pixels at a time.\n",
    "# This layer helps replace each 2 x 2 sub section of the image with the max pixel value found in the sub section. \n",
    "# This function effectively turns 4 pixels into 1.\n",
    "model.add(tf.keras.layers.MaxPooling2D(pool_size=(2, 2)))\n",
    "\n",
    "# Flatten the transformed image data to a vector\n",
    "model.add(tf.keras.layers.Flatten())\n",
    "\n",
    "# Add a hidden layer\n",
    "model.add(tf.keras.layers.Dense(128, activation=tf.nn.relu))\n",
    "\n",
    "# Compute the output using softmax\n",
    "model.add(tf.keras.layers.Dense(10, activation=tf.nn.softmax))"
   ]
  },
  {
   "cell_type": "markdown",
   "metadata": {},
   "source": [
    "### Provide the optimizer and loss function"
   ]
  },
  {
   "cell_type": "code",
   "execution_count": 7,
   "metadata": {},
   "outputs": [],
   "source": [
    "model.compile(optimizer = tf.optimizers.Adam(),\n",
    "              loss = 'sparse_categorical_crossentropy',\n",
    "              metrics=['accuracy'])"
   ]
  },
  {
   "cell_type": "markdown",
   "metadata": {},
   "source": [
    "### Get the model summary"
   ]
  },
  {
   "cell_type": "code",
   "execution_count": 8,
   "metadata": {},
   "outputs": [
    {
     "name": "stdout",
     "output_type": "stream",
     "text": [
      "Model: \"sequential\"\n",
      "_________________________________________________________________\n",
      "Layer (type)                 Output Shape              Param #   \n",
      "=================================================================\n",
      "conv2d (Conv2D)              (None, 26, 26, 64)        640       \n",
      "_________________________________________________________________\n",
      "max_pooling2d (MaxPooling2D) (None, 13, 13, 64)        0         \n",
      "_________________________________________________________________\n",
      "flatten (Flatten)            (None, 10816)             0         \n",
      "_________________________________________________________________\n",
      "dense (Dense)                (None, 128)               1384576   \n",
      "_________________________________________________________________\n",
      "dense_1 (Dense)              (None, 10)                1290      \n",
      "=================================================================\n",
      "Total params: 1,386,506\n",
      "Trainable params: 1,386,506\n",
      "Non-trainable params: 0\n",
      "_________________________________________________________________\n"
     ]
    }
   ],
   "source": [
    "model.summary()"
   ]
  },
  {
   "cell_type": "markdown",
   "metadata": {},
   "source": [
    "### Experiment with model callbacks"
   ]
  },
  {
   "cell_type": "code",
   "execution_count": 9,
   "metadata": {},
   "outputs": [],
   "source": [
    "class ExperimentalCallback(tf.keras.callbacks.Callback):\n",
    "    def on_epoch_end(self, epoch, logs):\n",
    "        # Want my model to be at least 99.8% accurate\n",
    "        if (logs[\"accuracy\"] >= 0.998):\n",
    "            self.model.stop_training = True"
   ]
  },
  {
   "cell_type": "markdown",
   "metadata": {},
   "source": [
    "## Train the neural network"
   ]
  },
  {
   "cell_type": "code",
   "execution_count": 10,
   "metadata": {},
   "outputs": [
    {
     "name": "stdout",
     "output_type": "stream",
     "text": [
      "Train on 60000 samples\n",
      "Epoch 1/30\n",
      "60000/60000 [==============================] - 38s 640us/sample - loss: 0.1333 - accuracy: 0.9606\n",
      "Epoch 2/30\n",
      "60000/60000 [==============================] - 37s 622us/sample - loss: 0.0467 - accuracy: 0.9855\n",
      "Epoch 3/30\n",
      "60000/60000 [==============================] - 38s 638us/sample - loss: 0.0303 - accuracy: 0.9909\n",
      "Epoch 4/30\n",
      "60000/60000 [==============================] - 40s 665us/sample - loss: 0.0189 - accuracy: 0.9940\n",
      "Epoch 5/30\n",
      "60000/60000 [==============================] - 38s 642us/sample - loss: 0.0139 - accuracy: 0.9958\n",
      "Epoch 6/30\n",
      "60000/60000 [==============================] - 40s 658us/sample - loss: 0.0097 - accuracy: 0.9968\n",
      "Epoch 7/30\n",
      "60000/60000 [==============================] - 39s 651us/sample - loss: 0.0070 - accuracy: 0.9978\n",
      "Epoch 8/30\n",
      "60000/60000 [==============================] - 39s 656us/sample - loss: 0.0054 - accuracy: 0.9983\n"
     ]
    },
    {
     "data": {
      "text/plain": [
       "<tensorflow.python.keras.callbacks.History at 0x172e22860>"
      ]
     },
     "execution_count": 10,
     "metadata": {},
     "output_type": "execute_result"
    }
   ],
   "source": [
    "callback = ExperimentalCallback()\n",
    "model.fit(training_digits, training_labels, epochs=30, callbacks=[callback])"
   ]
  },
  {
   "cell_type": "markdown",
   "metadata": {},
   "source": [
    "### Evaluate the model"
   ]
  },
  {
   "cell_type": "code",
   "execution_count": 11,
   "metadata": {},
   "outputs": [
    {
     "name": "stdout",
     "output_type": "stream",
     "text": [
      "10000/10000 [==============================] - 2s 160us/sample - loss: 0.0714 - accuracy: 0.9811\n"
     ]
    },
    {
     "data": {
      "text/plain": [
       "[0.07137186102846717, 0.9811]"
      ]
     },
     "execution_count": 11,
     "metadata": {},
     "output_type": "execute_result"
    }
   ],
   "source": [
    "model.evaluate(test_digits, test_labels)"
   ]
  },
  {
   "cell_type": "markdown",
   "metadata": {},
   "source": [
    "## Visualizing the convolution and pooling"
   ]
  },
  {
   "cell_type": "code",
   "execution_count": 12,
   "metadata": {},
   "outputs": [
    {
     "name": "stdout",
     "output_type": "stream",
     "text": [
      "Label 7, Test Digit Indices = [0, 17, 26]\n",
      "Label 2, Test Digit Indices = [1, 35, 38]\n",
      "Label 1, Test Digit Indices = [2, 5, 14]\n",
      "Label 0, Test Digit Indices = [3, 10, 13]\n",
      "Label 4, Test Digit Indices = [4, 6, 19]\n",
      "Label 9, Test Digit Indices = [7, 9, 12]\n",
      "Label 5, Test Digit Indices = [8, 15, 23]\n",
      "Label 6, Test Digit Indices = [11, 21, 22]\n",
      "Label 3, Test Digit Indices = [18, 30, 32]\n",
      "Label 8, Test Digit Indices = [61, 84, 110]\n"
     ]
    }
   ],
   "source": [
    "# Get the output of each layer to help visualize the convolutions\n",
    "layer_outputs = [layer.output for layer in model.layers]\n",
    "model_for_visualization = tf.keras.models.Model(inputs = model.input, outputs = layer_outputs)\n",
    "\n",
    "# For each of the 10 digits get 3 images from the test set\n",
    "group_3 = {}\n",
    "for idx in range(0, 200):\n",
    "    label = test_labels[idx]\n",
    "    \n",
    "    if label not in group_3:\n",
    "        group_3[label] = []\n",
    "    \n",
    "    if len(group_3[label]) < 3:\n",
    "        group_3[label].append(idx)\n",
    "\n",
    "for label in group_3:\n",
    "    print (\"Label {}, Test Digit Indices = {}\".format(label, group_3[label]))"
   ]
  },
  {
   "cell_type": "markdown",
   "metadata": {},
   "source": [
    "### Visualize digit 8"
   ]
  },
  {
   "cell_type": "code",
   "execution_count": 13,
   "metadata": {},
   "outputs": [],
   "source": [
    "digit_8 = group_3[8]\n",
    "\n",
    "# Get the visualization model's prediction for each image\n",
    "# Reshape is needed to convert (28, 28, 1) image to (1, 28, 28, 1)\n",
    "# The first 1 indicates that we are sending in just 1 image for prediction\n",
    "prediction_1 = model_for_visualization.predict(test_digits[digit_8[0]].reshape(1, 28, 28, 1))\n",
    "prediction_2 = model_for_visualization.predict(test_digits[digit_8[1]].reshape(1, 28, 28, 1))\n",
    "prediction_3 = model_for_visualization.predict(test_digits[digit_8[2]].reshape(1, 28, 28, 1))"
   ]
  },
  {
   "cell_type": "code",
   "execution_count": 14,
   "metadata": {},
   "outputs": [
    {
     "data": {
      "image/png": "[encoded data removed]",
      "text/plain": [
       "<Figure size 720x720 with 9 Axes>"
      ]
     },
     "metadata": {
      "needs_background": "light"
     },
     "output_type": "display_data"
    }
   ],
   "source": [
    "# Display CONVOLUTION = 16 (out of 64 possible convolutions)\n",
    "CONVOLUTION = 16\n",
    "\n",
    "# nrows = 3 (One for each image)\n",
    "# ncols = 3 (One column for the input, 2 for visualizing a random convolution (aka filter) and pooling)\n",
    "figure, axes = plt.subplots(nrows=3, ncols=3, figsize=(10,10))\n",
    "for row, r_idx in zip(axes, range(0, 3)):\n",
    "    for column, c_idx in zip(row, range(0, 3)):\n",
    "        # Display the actual image\n",
    "        if c_idx == 0:\n",
    "            column.imshow(test_digits_vcopy[digit_8[r_idx]])\n",
    "        \n",
    "        # Display CONVOLUTION = 1 learnt at the first Conv2D layer\n",
    "        elif c_idx == 1:\n",
    "            if r_idx == 0:\n",
    "                column.imshow(prediction_1[0][0, : , : , CONVOLUTION])\n",
    "            elif r_idx == 1:\n",
    "                column.imshow(prediction_2[0][0, : , : , CONVOLUTION])\n",
    "            else:\n",
    "                column.imshow(prediction_3[0][0, : , : , CONVOLUTION])\n",
    "        \n",
    "        # Display MAX_POOLING effect\n",
    "        elif c_idx == 2:\n",
    "            if r_idx == 0:\n",
    "                column.imshow(prediction_1[1][0, : , : , CONVOLUTION])\n",
    "            elif r_idx == 1:\n",
    "                column.imshow(prediction_2[1][0, : , : , CONVOLUTION])\n",
    "            else:\n",
    "                column.imshow(prediction_3[1][0, : , : , CONVOLUTION])\n",
    "\n",
    "plt.show()"
   ]
  },
  {
   "cell_type": "markdown",
   "metadata": {},
   "source": [
    "### Visualize digit 4"
   ]
  },
  {
   "cell_type": "code",
   "execution_count": 15,
   "metadata": {},
   "outputs": [],
   "source": [
    "digit_4 = group_3[4]\n",
    "\n",
    "# Get the visualization model's prediction for each image\n",
    "# Reshape is needed to convert (28, 28, 1) image to (1, 28, 28, 1)\n",
    "# The first 1 indicates that we are sending in just 1 image for prediction\n",
    "prediction_1 = model_for_visualization.predict(test_digits[digit_4[0]].reshape(1, 28, 28, 1))\n",
    "prediction_2 = model_for_visualization.predict(test_digits[digit_4[1]].reshape(1, 28, 28, 1))\n",
    "prediction_3 = model_for_visualization.predict(test_digits[digit_4[2]].reshape(1, 28, 28, 1))"
   ]
  },
  {
   "cell_type": "code",
   "execution_count": 16,
   "metadata": {},
   "outputs": [
    {
     "data": {
      "image/png": "[encoded data removed]",
      "text/plain": [
       "<Figure size 720x720 with 9 Axes>"
      ]
     },
     "metadata": {
      "needs_background": "light"
     },
     "output_type": "display_data"
    }
   ],
   "source": [
    "# Display CONVOLUTION = 25 (out of 64 possible convolutions)\n",
    "CONVOLUTION = 32\n",
    "\n",
    "# nrows = 3 (One for each image)\n",
    "# ncols = 3 (One column for the input, 2 for visualizing a random convolution (aka filter) and pooling)\n",
    "figure, axes = plt.subplots(nrows=3, ncols=3, figsize=(10,10))\n",
    "for row, r_idx in zip(axes, range(0, 3)):\n",
    "    for column, c_idx in zip(row, range(0, 3)):\n",
    "        # Display the actual image\n",
    "        if c_idx == 0:\n",
    "            column.imshow(test_digits_vcopy[digit_4[r_idx]])\n",
    "        \n",
    "        # Display CONVOLUTION = 1 learnt at the first Conv2D layer\n",
    "        elif c_idx == 1:\n",
    "            if r_idx == 0:\n",
    "                column.imshow(prediction_1[0][0, : , : , CONVOLUTION])\n",
    "            elif r_idx == 1:\n",
    "                column.imshow(prediction_2[0][0, : , : , CONVOLUTION])\n",
    "            else:\n",
    "                column.imshow(prediction_3[0][0, : , : , CONVOLUTION])\n",
    "        \n",
    "        # Display MAX_POOLING effect\n",
    "        elif c_idx == 2:\n",
    "            if r_idx == 0:\n",
    "                column.imshow(prediction_1[1][0, : , : , CONVOLUTION])\n",
    "            elif r_idx == 1:\n",
    "                column.imshow(prediction_2[1][0, : , : , CONVOLUTION])\n",
    "            else:\n",
    "                column.imshow(prediction_3[1][0, : , : , CONVOLUTION])\n",
    "\n",
    "plt.show()"
   ]
  },
  {
   "cell_type": "code",
   "execution_count": null,
   "metadata": {},
   "outputs": [],
   "source": []
  }
 ],
 "metadata": {
  "kernelspec": {
   "display_name": "Python 3",
   "language": "python",
   "name": "python3"
  },
  "language_info": {
   "codemirror_mode": {
    "name": "ipython",
    "version": 3
   },
   "file_extension": ".py",
   "mimetype": "text/x-python",
   "name": "python",
   "nbconvert_exporter": "python",
   "pygments_lexer": "ipython3",
   "version": "3.7.3"
  }
 },
 "nbformat": 4,
 "nbformat_minor": 4
}
