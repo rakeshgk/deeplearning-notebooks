{
 "cells": [
  {
   "cell_type": "markdown",
   "metadata": {},
   "source": [
    "# Week 2 Assignment\n",
    "\n",
    "The question can be found [here](https://github.com/lmoroney/dlaicourse/blob/master/Exercises/Exercise%202%20-%20Handwriting%20Recognition/Exercise2-Question.ipynb)"
   ]
  },
  {
   "cell_type": "markdown",
   "metadata": {},
   "source": [
    "## Python Modules"
   ]
  },
  {
   "cell_type": "code",
   "execution_count": 1,
   "metadata": {},
   "outputs": [],
   "source": [
    "import tensorflow as tf\n",
    "import numpy as np\n",
    "import matplotlib.pyplot as plt\n",
    "from random import randint"
   ]
  },
  {
   "cell_type": "markdown",
   "metadata": {},
   "source": [
    "## Load the handwritten digits MNIST dataset"
   ]
  },
  {
   "cell_type": "code",
   "execution_count": 2,
   "metadata": {},
   "outputs": [],
   "source": [
    "digits_mnist = tf.keras.datasets.mnist\n",
    "(training_digits, training_labels), (test_digits, test_labels) = digits_mnist.load_data()"
   ]
  },
  {
   "cell_type": "markdown",
   "metadata": {},
   "source": [
    "## Visualize the training data"
   ]
  },
  {
   "cell_type": "code",
   "execution_count": 3,
   "metadata": {},
   "outputs": [
    {
     "data": {
      "image/png": "[encoded data removed]",
      "text/plain": [
       "<Figure size 720x720 with 9 Axes>"
      ]
     },
     "metadata": {
      "needs_background": "light"
     },
     "output_type": "display_data"
    }
   ],
   "source": [
    "# Use this to generate random integers between [0, training_images.shape[0]]\n",
    "figure, axes = plt.subplots(nrows=3, ncols=3, figsize=(10,10))\n",
    "\n",
    "for row in axes:\n",
    "    for column in row:\n",
    "        column.imshow(training_digits[randint(0, training_digits.shape[0])])\n",
    "\n",
    "plt.show()"
   ]
  },
  {
   "cell_type": "markdown",
   "metadata": {},
   "source": [
    "## Exploratory Analysis"
   ]
  },
  {
   "cell_type": "code",
   "execution_count": 4,
   "metadata": {},
   "outputs": [
    {
     "name": "stdout",
     "output_type": "stream",
     "text": [
      "Label 0 and Count 5923\n",
      "Label 1 and Count 6742\n",
      "Label 2 and Count 5958\n",
      "Label 3 and Count 6131\n",
      "Label 4 and Count 5842\n",
      "Label 5 and Count 5421\n",
      "Label 6 and Count 5918\n",
      "Label 7 and Count 6265\n",
      "Label 8 and Count 5851\n",
      "Label 9 and Count 5949\n"
     ]
    }
   ],
   "source": [
    "uniques, counts = np.unique(training_labels, return_counts=True)\n",
    "\n",
    "for unique, count in zip(uniques, counts): \n",
    "    print (\"Label {} and Count {}\".format(unique, count))"
   ]
  },
  {
   "cell_type": "markdown",
   "metadata": {},
   "source": [
    "## Normalize the dataset\n",
    "\n",
    "Normalizing the dataset means we have 0 mean and unit variance. This is very important in \"preparing\" the dataset before feeding it to the ML Algorithm"
   ]
  },
  {
   "cell_type": "code",
   "execution_count": 5,
   "metadata": {},
   "outputs": [],
   "source": [
    "training_digits = training_digits / 255.0\n",
    "test_digits = test_digits / 255.0"
   ]
  },
  {
   "cell_type": "markdown",
   "metadata": {},
   "source": [
    "## Build a Simple Convolutional NN"
   ]
  },
  {
   "cell_type": "code",
   "execution_count": 6,
   "metadata": {},
   "outputs": [],
   "source": [
    "model = tf.keras.models.Sequential()\n",
    "# Flatten each 28 x 28 square image into a 784 dimensional vector\n",
    "model.add(tf.keras.layers.Flatten())\n",
    "# Accepts input of form (784, *) and outputs a matrix with dimension (128, *)\n",
    "model.add(tf.keras.layers.Dense(128, activation=tf.nn.relu))\n",
    "# Accepts input of form (128, *) and outputs a matrix with dimension (10, *)\n",
    "model.add(tf.keras.layers.Dense(10, activation=tf.nn.softmax))"
   ]
  },
  {
   "cell_type": "markdown",
   "metadata": {},
   "source": [
    "### Provide the optimizer and loss function"
   ]
  },
  {
   "cell_type": "code",
   "execution_count": 7,
   "metadata": {},
   "outputs": [],
   "source": [
    "model.compile(optimizer = tf.optimizers.Adam(),\n",
    "              loss = 'sparse_categorical_crossentropy',\n",
    "              metrics=['accuracy'])"
   ]
  },
  {
   "cell_type": "markdown",
   "metadata": {},
   "source": [
    "### Experiment with callbacks\n",
    "\n",
    "We can use callback to stop training when certain conditions are met. For more details read [this](https://www.tensorflow.org/api_docs/python/tf/keras/callbacks/Callback)"
   ]
  },
  {
   "cell_type": "code",
   "execution_count": 8,
   "metadata": {},
   "outputs": [],
   "source": [
    "class ExperimentalCallback(tf.keras.callbacks.Callback):\n",
    "    def on_epoch_end(self, epoch, logs):\n",
    "        # Want my model to be 94% accurate\n",
    "        if (logs[\"accuracy\"] >= 0.94):\n",
    "            self.model.stop_training = True"
   ]
  },
  {
   "cell_type": "markdown",
   "metadata": {},
   "source": [
    "### Train the Neural Network"
   ]
  },
  {
   "cell_type": "code",
   "execution_count": 10,
   "metadata": {},
   "outputs": [
    {
     "name": "stdout",
     "output_type": "stream",
     "text": [
      "Train on 60000 samples\n",
      "Epoch 1/30\n",
      "60000/60000 [==============================] - 3s 42us/sample - loss: 0.2570 - accuracy: 0.9271\n",
      "Epoch 2/30\n",
      "60000/60000 [==============================] - 2s 38us/sample - loss: 0.1151 - accuracy: 0.9660\n"
     ]
    },
    {
     "data": {
      "text/plain": [
       "<tensorflow.python.keras.callbacks.History at 0x14f266978>"
      ]
     },
     "execution_count": 10,
     "metadata": {},
     "output_type": "execute_result"
    }
   ],
   "source": [
    "callbacks = ExperimentalCallback()\n",
    "model.fit(training_digits, training_labels, epochs=30, callbacks=[callbacks])"
   ]
  },
  {
   "cell_type": "markdown",
   "metadata": {},
   "source": [
    "### Evaluate the model"
   ]
  },
  {
   "cell_type": "code",
   "execution_count": 12,
   "metadata": {},
   "outputs": [
    {
     "name": "stdout",
     "output_type": "stream",
     "text": [
      "10000/10000 [==============================] - 0s 26us/sample - loss: 0.0994 - accuracy: 0.9710\n"
     ]
    },
    {
     "data": {
      "text/plain": [
       "[0.09941574507057667, 0.971]"
      ]
     },
     "execution_count": 12,
     "metadata": {},
     "output_type": "execute_result"
    }
   ],
   "source": [
    "model.evaluate(test_digits, test_labels)"
   ]
  },
  {
   "cell_type": "markdown",
   "metadata": {},
   "source": [
    "## Model prediction\n",
    "\n",
    "A prediction is an array of numbers. In this case they represent the model's \"confidence\" that the image corresponds to each of the 10 different digits."
   ]
  },
  {
   "cell_type": "code",
   "execution_count": 13,
   "metadata": {},
   "outputs": [
    {
     "name": "stdout",
     "output_type": "stream",
     "text": [
      "[[1.9013612e-05 1.7534161e-07 3.1468185e-04 1.1067115e-03 8.7333420e-09\n",
      "  5.8993737e-06 8.2519830e-10 9.9854028e-01 2.6325370e-06 1.0684820e-05]]\n",
      "\n",
      "Image most resembles digit = 7\n",
      "\n",
      "Real world digit = 7\n",
      "\n",
      "Actual Image\n",
      "\n"
     ]
    },
    {
     "data": {
      "image/png": "[encoded data removed]",
      "text/plain": [
       "<Figure size 432x288 with 1 Axes>"
      ]
     },
     "metadata": {
      "needs_background": "light"
     },
     "output_type": "display_data"
    }
   ],
   "source": [
    "# We need to do this because the NN expects inputs of form (*, (28, 28))\n",
    "single_test_example = test_digits[0].reshape(1, test_digits[0].shape[0], test_digits[0].shape[1])\n",
    "\n",
    "# Compute the model's prediction\n",
    "prediction = model.predict(single_test_example)\n",
    "print (prediction)\n",
    "\n",
    "# Which label has the highest confidence value\n",
    "print ()\n",
    "print (\"Image most resembles digit = {}\".format(np.argmax(prediction[0])))\n",
    "\n",
    "# Test this prediction in the real world\n",
    "print ()\n",
    "print (\"Real world digit = {}\".format(test_labels[0]))\n",
    "\n",
    "# Plot the image\n",
    "print ()\n",
    "print (\"Actual Image\")\n",
    "print ()\n",
    "plt.imshow(test_digits[0])\n",
    "plt.show()"
   ]
  },
  {
   "cell_type": "code",
   "execution_count": null,
   "metadata": {},
   "outputs": [],
   "source": []
  }
 ],
 "metadata": {
  "kernelspec": {
   "display_name": "Python 3",
   "language": "python",
   "name": "python3"
  },
  "language_info": {
   "codemirror_mode": {
    "name": "ipython",
    "version": 3
   },
   "file_extension": ".py",
   "mimetype": "text/x-python",
   "name": "python",
   "nbconvert_exporter": "python",
   "pygments_lexer": "ipython3",
   "version": "3.7.3"
  }
 },
 "nbformat": 4,
 "nbformat_minor": 4
}
