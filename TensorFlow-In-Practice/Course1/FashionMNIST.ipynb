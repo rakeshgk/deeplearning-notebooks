{
 "cells": [
  {
   "cell_type": "markdown",
   "metadata": {},
   "source": [
    "## Fashion MNIST\n",
    "\n",
    "To learn more about Fashion MNIST read [this](https://github.com/zalandoresearch/fashion-mnist)"
   ]
  },
  {
   "cell_type": "code",
   "execution_count": 1,
   "metadata": {},
   "outputs": [],
   "source": [
    "import tensorflow as tf\n",
    "import numpy as np\n",
    "import matplotlib.pyplot as plt\n",
    "from random import randint"
   ]
  },
  {
   "cell_type": "markdown",
   "metadata": {},
   "source": [
    "## Load the fashion MNIST dataset"
   ]
  },
  {
   "cell_type": "code",
   "execution_count": 2,
   "metadata": {},
   "outputs": [],
   "source": [
    "fashion_mnist = tf.keras.datasets.fashion_mnist\n",
    "(training_images, training_labels), (test_images, test_labels) = fashion_mnist.load_data()"
   ]
  },
  {
   "cell_type": "markdown",
   "metadata": {},
   "source": [
    "## Visualize the training data"
   ]
  },
  {
   "cell_type": "code",
   "execution_count": 3,
   "metadata": {},
   "outputs": [
    {
     "data": {
      "image/png": "[encoded data removed]",
      "text/plain": [
       "<Figure size 720x720 with 9 Axes>"
      ]
     },
     "metadata": {
      "needs_background": "light"
     },
     "output_type": "display_data"
    }
   ],
   "source": [
    "# Use this to generate random integers between [0, training_images.shape[0]]\n",
    "figure, axes = plt.subplots(nrows=3, ncols=3, figsize=(10,10))\n",
    "\n",
    "for row in axes:\n",
    "    for column in row:\n",
    "        column.imshow(training_images[randint(0, training_images.shape[0])])\n",
    "\n",
    "plt.show()"
   ]
  },
  {
   "cell_type": "markdown",
   "metadata": {},
   "source": [
    "## Exploratory Analysis\n",
    "\n",
    "Training Labels with their English Description\n",
    "\n",
    "0: T-shirt/top\n",
    "\n",
    "1: Trouser\n",
    "\n",
    "2: Pullover\n",
    "\n",
    "3: Dress\n",
    "\n",
    "4: Coat\n",
    "\n",
    "5: Sandal\n",
    "\n",
    "6: Shirt\n",
    "\n",
    "7: Sneaker\n",
    "\n",
    "8: Bag\n",
    "\n",
    "9: Ankle boot"
   ]
  },
  {
   "cell_type": "code",
   "execution_count": 4,
   "metadata": {},
   "outputs": [
    {
     "name": "stdout",
     "output_type": "stream",
     "text": [
      "Label 0 and Count 6000\n",
      "Label 1 and Count 6000\n",
      "Label 2 and Count 6000\n",
      "Label 3 and Count 6000\n",
      "Label 4 and Count 6000\n",
      "Label 5 and Count 6000\n",
      "Label 6 and Count 6000\n",
      "Label 7 and Count 6000\n",
      "Label 8 and Count 6000\n",
      "Label 9 and Count 6000\n"
     ]
    }
   ],
   "source": [
    "uniques, counts = np.unique(training_labels, return_counts=True)\n",
    "\n",
    "for unique, count in zip(uniques, counts): \n",
    "    print (\"Label {} and Count {}\".format(unique, count))"
   ]
  },
  {
   "cell_type": "markdown",
   "metadata": {},
   "source": [
    "## Normalize the dataset\n",
    "\n",
    "Normalizing the dataset means we have 0 mean and unit variance. This is very important in \"preparing\" the dataset before feeding it to the ML Algorithm"
   ]
  },
  {
   "cell_type": "code",
   "execution_count": 5,
   "metadata": {},
   "outputs": [],
   "source": [
    "training_images = training_images / 255.0\n",
    "test_images = test_images / 255.0"
   ]
  },
  {
   "cell_type": "markdown",
   "metadata": {},
   "source": [
    "## Build a Convolutional NN"
   ]
  },
  {
   "cell_type": "code",
   "execution_count": 6,
   "metadata": {},
   "outputs": [],
   "source": [
    "model = tf.keras.models.Sequential()\n",
    "# Flatten each 28 x 28 square image into a 784 dimensional vector\n",
    "model.add(tf.keras.layers.Flatten())\n",
    "# Accepts input of form (784, *) and outputs a matrix with dimension (128, *)\n",
    "model.add(tf.keras.layers.Dense(128, activation=tf.nn.relu))\n",
    "# Accepts input of form (128, *) and outputs a matrix with dimension (10, *)\n",
    "model.add(tf.keras.layers.Dense(10, activation=tf.nn.softmax))"
   ]
  },
  {
   "cell_type": "markdown",
   "metadata": {},
   "source": [
    "### Provide the optimizer and the loss function"
   ]
  },
  {
   "cell_type": "code",
   "execution_count": 7,
   "metadata": {},
   "outputs": [],
   "source": [
    "model.compile(optimizer = tf.optimizers.Adam(),\n",
    "              loss = 'sparse_categorical_crossentropy',\n",
    "              metrics=['accuracy'])"
   ]
  },
  {
   "cell_type": "markdown",
   "metadata": {},
   "source": [
    "### Experiment with callbacks\n",
    "\n",
    "We can use callback to stop training when certain conditions are met. For more details read [this](https://www.tensorflow.org/api_docs/python/tf/keras/callbacks/Callback)"
   ]
  },
  {
   "cell_type": "code",
   "execution_count": 8,
   "metadata": {},
   "outputs": [],
   "source": [
    "class ExperimentalCallback(tf.keras.callbacks.Callback):\n",
    "    def on_epoch_end(self, epoch, logs):\n",
    "        # Want my model to be 94% accurate\n",
    "        if (logs[\"accuracy\"] >= 0.94):\n",
    "            self.model.stop_training = True"
   ]
  },
  {
   "cell_type": "markdown",
   "metadata": {},
   "source": [
    "### Train the Neural Network"
   ]
  },
  {
   "cell_type": "code",
   "execution_count": 9,
   "metadata": {},
   "outputs": [
    {
     "name": "stdout",
     "output_type": "stream",
     "text": [
      "Train on 60000 samples\n",
      "Epoch 1/30\n",
      "60000/60000 [==============================] - 3s 43us/sample - loss: 0.4972 - accuracy: 0.8246\n",
      "Epoch 2/30\n",
      "60000/60000 [==============================] - 2s 38us/sample - loss: 0.3754 - accuracy: 0.8651\n",
      "Epoch 3/30\n",
      "60000/60000 [==============================] - 2s 38us/sample - loss: 0.3351 - accuracy: 0.8766\n",
      "Epoch 4/30\n",
      "60000/60000 [==============================] - 2s 39us/sample - loss: 0.3114 - accuracy: 0.8849\n",
      "Epoch 5/30\n",
      "60000/60000 [==============================] - 2s 38us/sample - loss: 0.2950 - accuracy: 0.8914\n",
      "Epoch 6/30\n",
      "60000/60000 [==============================] - 2s 38us/sample - loss: 0.2809 - accuracy: 0.8956s - l\n",
      "Epoch 7/30\n",
      "60000/60000 [==============================] - 2s 38us/sample - loss: 0.2660 - accuracy: 0.9014\n",
      "Epoch 8/30\n",
      "60000/60000 [==============================] - 2s 39us/sample - loss: 0.2579 - accuracy: 0.9045\n",
      "Epoch 9/30\n",
      "60000/60000 [==============================] - 2s 39us/sample - loss: 0.2474 - accuracy: 0.9080\n",
      "Epoch 10/30\n",
      "60000/60000 [==============================] - 2s 40us/sample - loss: 0.2399 - accuracy: 0.9112\n",
      "Epoch 11/30\n",
      "60000/60000 [==============================] - 2s 40us/sample - loss: 0.2306 - accuracy: 0.9145s - loss: 0.2332 - accuracy: \n",
      "Epoch 12/30\n",
      "60000/60000 [==============================] - 2s 40us/sample - loss: 0.2225 - accuracy: 0.9167\n",
      "Epoch 13/30\n",
      "60000/60000 [==============================] - 2s 40us/sample - loss: 0.2146 - accuracy: 0.9194\n",
      "Epoch 14/30\n",
      "60000/60000 [==============================] - 2s 41us/sample - loss: 0.2101 - accuracy: 0.9217\n",
      "Epoch 15/30\n",
      "60000/60000 [==============================] - 2s 40us/sample - loss: 0.2036 - accuracy: 0.9242\n",
      "Epoch 16/30\n",
      "60000/60000 [==============================] - 2s 40us/sample - loss: 0.1974 - accuracy: 0.9263s - loss: 0.1988 - accu\n",
      "Epoch 17/30\n",
      "60000/60000 [==============================] - ETA: 0s - loss: 0.1918 - accuracy: 0.92 - 2s 40us/sample - loss: 0.1918 - accuracy: 0.9280\n",
      "Epoch 18/30\n",
      "60000/60000 [==============================] - 3s 42us/sample - loss: 0.1873 - accuracy: 0.9287s - loss: 0.1874 - accuracy: 0.\n",
      "Epoch 19/30\n",
      "60000/60000 [==============================] - 2s 40us/sample - loss: 0.1813 - accuracy: 0.9315\n",
      "Epoch 20/30\n",
      "60000/60000 [==============================] - 2s 41us/sample - loss: 0.1760 - accuracy: 0.9352\n",
      "Epoch 21/30\n",
      "60000/60000 [==============================] - 2s 41us/sample - loss: 0.1743 - accuracy: 0.9345\n",
      "Epoch 22/30\n",
      "60000/60000 [==============================] - 3s 42us/sample - loss: 0.1689 - accuracy: 0.9361\n",
      "Epoch 23/30\n",
      "60000/60000 [==============================] - 2s 41us/sample - loss: 0.1633 - accuracy: 0.9378\n",
      "Epoch 24/30\n",
      "60000/60000 [==============================] - 2s 41us/sample - loss: 0.1616 - accuracy: 0.9389\n",
      "Epoch 25/30\n",
      "60000/60000 [==============================] - 2s 42us/sample - loss: 0.1564 - accuracy: 0.9409\n"
     ]
    },
    {
     "data": {
      "text/plain": [
       "<tensorflow.python.keras.callbacks.History at 0x16abff710>"
      ]
     },
     "execution_count": 9,
     "metadata": {},
     "output_type": "execute_result"
    }
   ],
   "source": [
    "callbacks = ExperimentalCallback()\n",
    "model.fit(training_images, training_labels, epochs=30, callbacks=[callbacks])"
   ]
  },
  {
   "cell_type": "markdown",
   "metadata": {},
   "source": [
    "### Evaluate the model"
   ]
  },
  {
   "cell_type": "code",
   "execution_count": 10,
   "metadata": {},
   "outputs": [
    {
     "name": "stdout",
     "output_type": "stream",
     "text": [
      "10000/10000 [==============================] - 0s 25us/sample - loss: 0.3971 - accuracy: 0.8842\n"
     ]
    },
    {
     "data": {
      "text/plain": [
       "[0.397133726978302, 0.8842]"
      ]
     },
     "execution_count": 10,
     "metadata": {},
     "output_type": "execute_result"
    }
   ],
   "source": [
    "model.evaluate(test_images, test_labels)"
   ]
  },
  {
   "cell_type": "markdown",
   "metadata": {},
   "source": [
    "## Model prediction\n",
    "\n",
    "A prediction is an array of numbers. In this case they represent the model's \"confidence\" that the image corresponds to each of the 10 different articles of clothing."
   ]
  },
  {
   "cell_type": "code",
   "execution_count": 11,
   "metadata": {},
   "outputs": [
    {
     "name": "stdout",
     "output_type": "stream",
     "text": [
      "[[3.6969982e-19 3.5347750e-25 1.0782144e-17 3.1295551e-20 8.4004941e-21\n",
      "  8.8554769e-10 1.3423855e-19 6.2407939e-06 8.5890390e-16 9.9999380e-01]]\n",
      "\n",
      "Image most resembles label = 9\n",
      "\n",
      "Real world label = 9\n",
      "\n",
      "Actual Image\n",
      "\n"
     ]
    },
    {
     "data": {
      "image/png": "[encoded data removed]",
      "text/plain": [
       "<Figure size 432x288 with 1 Axes>"
      ]
     },
     "metadata": {
      "needs_background": "light"
     },
     "output_type": "display_data"
    }
   ],
   "source": [
    "# We need to do this because the NN expects inputs of form (*, (28, 28))\n",
    "single_test_example = test_images[0].reshape(1, test_images[0].shape[0], test_images[0].shape[1])\n",
    "\n",
    "# Compute the model's prediction\n",
    "prediction = model.predict(single_test_example)\n",
    "print (prediction)\n",
    "\n",
    "# Which label has the highest confidence value\n",
    "print ()\n",
    "print (\"Image most resembles label = {}\".format(np.argmax(prediction[0])))\n",
    "\n",
    "# Test this prediction in the real world\n",
    "print ()\n",
    "print (\"Real world label = {}\".format(test_labels[0]))\n",
    "\n",
    "# Plot the image\n",
    "print ()\n",
    "print (\"Actual Image\")\n",
    "print ()\n",
    "plt.imshow(test_images[0])\n",
    "plt.show()"
   ]
  },
  {
   "cell_type": "code",
   "execution_count": null,
   "metadata": {},
   "outputs": [],
   "source": []
  }
 ],
 "metadata": {
  "kernelspec": {
   "display_name": "Python 3",
   "language": "python",
   "name": "python3"
  },
  "language_info": {
   "codemirror_mode": {
    "name": "ipython",
    "version": 3
   },
   "file_extension": ".py",
   "mimetype": "text/x-python",
   "name": "python",
   "nbconvert_exporter": "python",
   "pygments_lexer": "ipython3",
   "version": "3.7.3"
  }
 },
 "nbformat": 4,
 "nbformat_minor": 4
}
